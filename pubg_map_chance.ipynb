{
 "cells": [
  {
   "cell_type": "markdown",
   "id": "dfa44e57",
   "metadata": {},
   "source": [
    "# Introduction\n",
    "\n",
    "Using the scipy.stats implementation of the chi square test \n",
    "to assess test whether there is evidence to claim that the \n",
    "Player Unknown's Battlegrounds map rotations in seasons 14 and 15\n",
    "were chosen based on a discrete uniform distribution; i.e. all \n",
    "maps were equally likely. Data were obtained from a post on r/PUBATTLEGROUNDS\n",
    "by u/attractionist. The post can be found [here](https://www.reddit.com/r/PUBATTLEGROUNDS/comments/sitxl1/test_map_probability_chance/)\n",
    "\n",
    "A $\\chi^2$ test for map count data provided by u/attractionist indicates that there is insufficient evidence to claim that the realized map distribution is not uniform categorical in season 15. For season 14 we can reject this claim with strong evidence, but this discrepancy may be accounted for when the differential in player capacity between Paramo and the other maps are factored in."
   ]
  },
  {
   "cell_type": "code",
   "execution_count": 3,
   "id": "ff66e67d",
   "metadata": {},
   "outputs": [],
   "source": [
    "#imports\n",
    "\n",
    "import numpy as np\n",
    "import pandas as pd\n",
    "import matplotlib.pyplot as plt\n",
    "from scipy.stats import chisquare\n"
   ]
  },
  {
   "cell_type": "code",
   "execution_count": 17,
   "id": "664a3503",
   "metadata": {},
   "outputs": [],
   "source": [
    "#Inputting the data collected by u/attractionist as vectors in a dataframe\n",
    "\n",
    "s14_data = {'map' : ['Sanhok', 'Taego', 'Miramar', 'Erangel', 'Paramo'], 'N_i' : [175, 163, 156, 152, 106]} \n",
    "\n",
    "s15_data = {'map' : ['Erangel', 'Vikendi', 'Miramar', 'Taego', 'Sanhok'], 'N_i' : [282, 271, 268, 266, 263]}\n",
    "\n",
    "s14_df = pd.DataFrame(data=s14_data)\n",
    "\n",
    "s15_df = pd.DataFrame(data=s15_data)\n",
    "\n",
    "s14_df['Proportion'] = s14_df['N_i']/s14_df['N_i'].sum()\n",
    "\n",
    "s15_df['Proportion'] = s15_df['N_i']/s15_df['N_i'].sum()"
   ]
  },
  {
   "cell_type": "code",
   "execution_count": 14,
   "id": "a9d0971e",
   "metadata": {},
   "outputs": [
    {
     "data": {
      "text/html": [
       "<div>\n",
       "<style scoped>\n",
       "    .dataframe tbody tr th:only-of-type {\n",
       "        vertical-align: middle;\n",
       "    }\n",
       "\n",
       "    .dataframe tbody tr th {\n",
       "        vertical-align: top;\n",
       "    }\n",
       "\n",
       "    .dataframe thead th {\n",
       "        text-align: right;\n",
       "    }\n",
       "</style>\n",
       "<table border=\"1\" class=\"dataframe\">\n",
       "  <thead>\n",
       "    <tr style=\"text-align: right;\">\n",
       "      <th></th>\n",
       "      <th>map</th>\n",
       "      <th>N_i</th>\n",
       "      <th>Proportion</th>\n",
       "    </tr>\n",
       "  </thead>\n",
       "  <tbody>\n",
       "    <tr>\n",
       "      <th>0</th>\n",
       "      <td>Sanhok</td>\n",
       "      <td>175</td>\n",
       "      <td>0.232713</td>\n",
       "    </tr>\n",
       "    <tr>\n",
       "      <th>1</th>\n",
       "      <td>Taego</td>\n",
       "      <td>163</td>\n",
       "      <td>0.216755</td>\n",
       "    </tr>\n",
       "    <tr>\n",
       "      <th>2</th>\n",
       "      <td>Miramar</td>\n",
       "      <td>156</td>\n",
       "      <td>0.207447</td>\n",
       "    </tr>\n",
       "    <tr>\n",
       "      <th>3</th>\n",
       "      <td>Erangel</td>\n",
       "      <td>152</td>\n",
       "      <td>0.202128</td>\n",
       "    </tr>\n",
       "    <tr>\n",
       "      <th>4</th>\n",
       "      <td>Paramo</td>\n",
       "      <td>106</td>\n",
       "      <td>0.140957</td>\n",
       "    </tr>\n",
       "  </tbody>\n",
       "</table>\n",
       "</div>"
      ],
      "text/plain": [
       "       map  N_i  Proportion\n",
       "0   Sanhok  175    0.232713\n",
       "1    Taego  163    0.216755\n",
       "2  Miramar  156    0.207447\n",
       "3  Erangel  152    0.202128\n",
       "4   Paramo  106    0.140957"
      ]
     },
     "execution_count": 14,
     "metadata": {},
     "output_type": "execute_result"
    }
   ],
   "source": [
    "#Our dataframes look like this:\n",
    "\n",
    "s14_df.head()"
   ]
  },
  {
   "cell_type": "code",
   "execution_count": 13,
   "id": "c50fd007",
   "metadata": {},
   "outputs": [
    {
     "data": {
      "text/html": [
       "<div>\n",
       "<style scoped>\n",
       "    .dataframe tbody tr th:only-of-type {\n",
       "        vertical-align: middle;\n",
       "    }\n",
       "\n",
       "    .dataframe tbody tr th {\n",
       "        vertical-align: top;\n",
       "    }\n",
       "\n",
       "    .dataframe thead th {\n",
       "        text-align: right;\n",
       "    }\n",
       "</style>\n",
       "<table border=\"1\" class=\"dataframe\">\n",
       "  <thead>\n",
       "    <tr style=\"text-align: right;\">\n",
       "      <th></th>\n",
       "      <th>map</th>\n",
       "      <th>N_i</th>\n",
       "      <th>Proportion</th>\n",
       "    </tr>\n",
       "  </thead>\n",
       "  <tbody>\n",
       "    <tr>\n",
       "      <th>0</th>\n",
       "      <td>Erangel</td>\n",
       "      <td>282</td>\n",
       "      <td>0.208889</td>\n",
       "    </tr>\n",
       "    <tr>\n",
       "      <th>1</th>\n",
       "      <td>Vikendi</td>\n",
       "      <td>271</td>\n",
       "      <td>0.200741</td>\n",
       "    </tr>\n",
       "    <tr>\n",
       "      <th>2</th>\n",
       "      <td>Miramar</td>\n",
       "      <td>268</td>\n",
       "      <td>0.198519</td>\n",
       "    </tr>\n",
       "    <tr>\n",
       "      <th>3</th>\n",
       "      <td>Taego</td>\n",
       "      <td>266</td>\n",
       "      <td>0.197037</td>\n",
       "    </tr>\n",
       "    <tr>\n",
       "      <th>4</th>\n",
       "      <td>Sanhok</td>\n",
       "      <td>263</td>\n",
       "      <td>0.194815</td>\n",
       "    </tr>\n",
       "  </tbody>\n",
       "</table>\n",
       "</div>"
      ],
      "text/plain": [
       "       map  N_i  Proportion\n",
       "0  Erangel  282    0.208889\n",
       "1  Vikendi  271    0.200741\n",
       "2  Miramar  268    0.198519\n",
       "3    Taego  266    0.197037\n",
       "4   Sanhok  263    0.194815"
      ]
     },
     "execution_count": 13,
     "metadata": {},
     "output_type": "execute_result"
    }
   ],
   "source": [
    "s15_df.head()"
   ]
  },
  {
   "cell_type": "markdown",
   "id": "9c7d7895",
   "metadata": {},
   "source": [
    "### Hypothesis Test\n",
    "The PUBG map rotation in seasons 14 and 15 is characterized by categorical distributions with 5 categories each. To assess the question of whether or not the map rotation is a uniform categorical distribution, we can perform a $\\chi^2$ test with $K - 1 = 4$ degrees of freedom. The format of our test fits the default arguments of the `scipy.stats.chisquare` implementation (the null hypothesis distribution is the uniform categorical, and there are no degree of freedom adjustments to make). Our test is as follows:\n",
    "\n",
    "$H_0: X \\sim Cat(5)$\n",
    "\n",
    "$H_1: \\neg H_0$"
   ]
  },
  {
   "cell_type": "code",
   "execution_count": 12,
   "id": "d8847147",
   "metadata": {},
   "outputs": [
    {
     "name": "stdout",
     "output_type": "stream",
     "text": [
      "Season 14 map rotation Chi Square test: \n",
      " Test Statistic: 18.412\n",
      " p-value: 0.00102\n",
      "\n",
      "\n",
      "\n",
      "Season 15 map rotation Chi Square test: \n",
      " Test Statistic: 0.793\n",
      " p-value: 0.93944\n"
     ]
    }
   ],
   "source": [
    "chisq_14 = chisquare(s14_df['N_i'])\n",
    "print(f'Season 14 map rotation Chi Square test: \\n Test Statistic: {np.round(chisq_14[0], 3)}\\\n",
    "\\n p-value: {np.round(chisq_14[1], 5)}')\n",
    "\n",
    "print('\\n\\n')\n",
    "\n",
    "chisq_15 = chisquare(s15_df['N_i'])\n",
    "print(f'Season 15 map rotation Chi Square test: \\n Test Statistic: {np.round(chisq_15[0], 3)}\\\n",
    "\\n p-value: {np.round(chisq_15[1], 5)}')\n",
    "\n"
   ]
  },
  {
   "cell_type": "markdown",
   "id": "658ddfd2",
   "metadata": {},
   "source": [
    "### Results\n",
    "For season 14, our Chi Square test indicates strong evidence that we can reject $H_0$, with a p-value close to .001; for season 15 we have very weak evidence in support of rejecting $H_0$.\n",
    "\n",
    "From this test, we can conclude that the realized probability of map selection for u/attractionist and his/her squad was most likely not drawn from a uniform categorical distribution. There is almost no evidence to make this claim for season 15, for which our test results indicate that the variation between observations of each different map were most likely due to random chance.\n",
    "\n",
    "### However...\n",
    "Astute gamers will notice that the season 14 map rotation includes Paramo (one of my personal favorites!), which has a player capacity of 64. All other maps in season 14 and 15 have player capacities of 100. Could it be that the *map selection* in season 14 was based on a uniform categorical distribution, but the fact that Paramo only allows 64 players per round skewed the realized proportion accordingly? As a thought experiment, imagine that the map rotation was deterministically, uniformly generated (e.g. map1, map2, ... ,map_n, map1, map2, ...), but one map only allowed 5 players per round while the rest allowed 500. It makes sense intuitively that while the exclusive map was *selected* the same number of times as the others, the probability of a player landing in a match on that map would be much smaller than for the other maps. \n",
    "\n",
    "Inspection of the data provided by u/attractionist in season 14 indicates that the play count for Paramo is less than the other maps by a scaling constant that is in the neighborhood of 64/100, which would correspond to scaling by the map's player capacity. Let's try scaling the season 14 Paramo match count by this scaling factor and repeating our test.\n"
   ]
  },
  {
   "cell_type": "code",
   "execution_count": 18,
   "id": "c11d5f9d",
   "metadata": {},
   "outputs": [
    {
     "name": "stderr",
     "output_type": "stream",
     "text": [
      "C:\\Users\\INSTAN~1\\AppData\\Local\\Temp/ipykernel_16332/2666334387.py:3: SettingWithCopyWarning: \n",
      "A value is trying to be set on a copy of a slice from a DataFrame\n",
      "\n",
      "See the caveats in the documentation: https://pandas.pydata.org/pandas-docs/stable/user_guide/indexing.html#returning-a-view-versus-a-copy\n",
      "  s14_df['N_i'][4] =  s14_df['N_i'][4]*(100/64)\n"
     ]
    },
    {
     "data": {
      "text/html": [
       "<div>\n",
       "<style scoped>\n",
       "    .dataframe tbody tr th:only-of-type {\n",
       "        vertical-align: middle;\n",
       "    }\n",
       "\n",
       "    .dataframe tbody tr th {\n",
       "        vertical-align: top;\n",
       "    }\n",
       "\n",
       "    .dataframe thead th {\n",
       "        text-align: right;\n",
       "    }\n",
       "</style>\n",
       "<table border=\"1\" class=\"dataframe\">\n",
       "  <thead>\n",
       "    <tr style=\"text-align: right;\">\n",
       "      <th></th>\n",
       "      <th>map</th>\n",
       "      <th>N_i</th>\n",
       "      <th>Proportion</th>\n",
       "    </tr>\n",
       "  </thead>\n",
       "  <tbody>\n",
       "    <tr>\n",
       "      <th>0</th>\n",
       "      <td>Sanhok</td>\n",
       "      <td>175</td>\n",
       "      <td>0.215783</td>\n",
       "    </tr>\n",
       "    <tr>\n",
       "      <th>1</th>\n",
       "      <td>Taego</td>\n",
       "      <td>163</td>\n",
       "      <td>0.200986</td>\n",
       "    </tr>\n",
       "    <tr>\n",
       "      <th>2</th>\n",
       "      <td>Miramar</td>\n",
       "      <td>156</td>\n",
       "      <td>0.192355</td>\n",
       "    </tr>\n",
       "    <tr>\n",
       "      <th>3</th>\n",
       "      <td>Erangel</td>\n",
       "      <td>152</td>\n",
       "      <td>0.187423</td>\n",
       "    </tr>\n",
       "    <tr>\n",
       "      <th>4</th>\n",
       "      <td>Paramo</td>\n",
       "      <td>165</td>\n",
       "      <td>0.203453</td>\n",
       "    </tr>\n",
       "  </tbody>\n",
       "</table>\n",
       "</div>"
      ],
      "text/plain": [
       "       map  N_i  Proportion\n",
       "0   Sanhok  175    0.215783\n",
       "1    Taego  163    0.200986\n",
       "2  Miramar  156    0.192355\n",
       "3  Erangel  152    0.187423\n",
       "4   Paramo  165    0.203453"
      ]
     },
     "execution_count": 18,
     "metadata": {},
     "output_type": "execute_result"
    }
   ],
   "source": [
    "#Scaling the s14 Paramo match count by 100/64, corresponding to the player capacity differential to other maps\n",
    "#This technique is probably bad pandas practice, and shouldn't be done outside of a one-off analysis like this one\n",
    "s14_df['N_i'][4] =  s14_df['N_i'][4]*(100/64) \n",
    "\n",
    "s14_df['Proportion'] = s14_df['N_i']/s14_df['N_i'].sum()\n",
    "\n",
    "s14_df.head()"
   ]
  },
  {
   "cell_type": "code",
   "execution_count": 19,
   "id": "596525ea",
   "metadata": {},
   "outputs": [
    {
     "name": "stdout",
     "output_type": "stream",
     "text": [
      "Season 14 map rotation Chi Square test: \n",
      " Test Statistic: 1.941\n",
      " p-value: 0.74664\n"
     ]
    }
   ],
   "source": [
    "chisq_14 = chisquare(s14_df['N_i'])\n",
    "print(f'Season 14 map rotation Chi Square test: \\n Test Statistic: {np.round(chisq_14[0], 3)}\\\n",
    "\\n p-value: {np.round(chisq_14[1], 5)}')"
   ]
  },
  {
   "cell_type": "markdown",
   "id": "644fefcb",
   "metadata": {},
   "source": [
    "### Results pt. 2\n",
    "\n",
    "After scaling the match count for Paramo in season 14 by player capacity, our $\\chi^2$ test does not provide strong evidence to reject $H_0$, with a p-value around .75! This would seem to indicate that while we have strong evidence that u/attractionist was less likely to play Paramo on any given match during S14, we cannot reject the null hypothesis that the *map rotation* is drawn from a uniform categorical distribution after accounting for the differential in player capacity between Paramo and the other maps. \n",
    "\n",
    "### Conclusion\n",
    "\n",
    "A $\\chi^2$ test for map count data provided by u/attractionist indicates that there is insufficient evidence to claim that the realized map distribution is not uniform categorical in season 15. For season 14 we can reject this claim with strong evidence, but this discrepancy may be accounted for when the differential in player capacity between Paramo and the other maps are factored in.\n",
    "\n",
    "Thanks to u/attractionist for collecting the map count data that this analysis was based on!"
   ]
  },
  {
   "cell_type": "code",
   "execution_count": null,
   "id": "2bc543e2",
   "metadata": {},
   "outputs": [],
   "source": []
  }
 ],
 "metadata": {
  "kernelspec": {
   "display_name": "Python 3 (ipykernel)",
   "language": "python",
   "name": "python3"
  },
  "language_info": {
   "codemirror_mode": {
    "name": "ipython",
    "version": 3
   },
   "file_extension": ".py",
   "mimetype": "text/x-python",
   "name": "python",
   "nbconvert_exporter": "python",
   "pygments_lexer": "ipython3",
   "version": "3.8.12"
  }
 },
 "nbformat": 4,
 "nbformat_minor": 5
}
